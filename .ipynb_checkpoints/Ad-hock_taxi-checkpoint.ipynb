{
 "cells": [
  {
   "cell_type": "code",
   "execution_count": 2,
   "id": "beacdd27-26f8-4ae4-971a-cf57252fd85e",
   "metadata": {},
   "outputs": [],
   "source": [
    "# Импортируем соответствубщие библиотеки\n",
    "\n",
    "import pandas as pd\n",
    "import matplotlib.pyplot as plt\n",
    "import seaborn as sns"
   ]
  },
  {
   "cell_type": "code",
   "execution_count": 3,
   "id": "3ab706b0-af04-4d37-89e0-900f5a5b0fa8",
   "metadata": {},
   "outputs": [],
   "source": [
    "#Импортируем соответствубщие файлы\n",
    "\n",
    "data = pd.read_csv('C://Users/Petr/Desktop/Ad-hock_taxi/Data_Skytaxi.csv', sep=';', parse_dates=[3,4,5,6], dayfirst=True)\n",
    "city = pd.read_csv('C://Users/Petr/Desktop/Ad-hock_taxi/city_dict.csv', sep=';')\n",
    "tariff = pd.read_csv('C://Users/Petr/Desktop/Ad-hock_taxi/tariff_dict.csv', sep=';')"
   ]
  },
  {
   "cell_type": "code",
   "execution_count": 4,
   "id": "697620be-509a-4984-a8cf-78debc50607e",
   "metadata": {},
   "outputs": [],
   "source": [
    "# Объединим все файлы в один\n",
    "\n",
    "temp = pd.merge(city,\n",
    "               data,\n",
    "               on= ['id_city', 'id_city'])"
   ]
  },
  {
   "cell_type": "code",
   "execution_count": 5,
   "id": "dcb77d81-2041-44fb-9c2c-fde2dc5345fd",
   "metadata": {},
   "outputs": [],
   "source": [
    "df_full = pd.merge(temp,\n",
    "                  tariff,\n",
    "                  on= ['id_tariff', 'id_tariff'])"
   ]
  },
  {
   "cell_type": "markdown",
   "id": "889cc945-093b-4f5c-8e41-9b4c903b7c6e",
   "metadata": {},
   "source": [
    "Кейс 1. Ad hoc в агрегаторе такси\n",
    "Вы работаете продуктовым аналитиком в агрегаторе такси SkyTaxi.\n",
    "\n",
    "У вас есть бэклог из нескольких задач Ad hoc.\n",
    "\n",
    "Для их решения рассмотрите основную конверсию из заказа в поездку Order2Ride, а также промежуточные три звена конверсии, из которых состоит Order2Ride (Order2Assign, Assign2Arrive, Arrive2Ride)."
   ]
  },
  {
   "cell_type": "code",
   "execution_count": 39,
   "id": "62ceb1fe-edb8-4f99-9c6d-5b60d5f0cb9c",
   "metadata": {},
   "outputs": [
    {
     "name": "stdout",
     "output_type": "stream",
     "text": [
      "Order2Assign - 67.30000000000001\n",
      "Assign2Arrive - 79.27\n",
      "Arrive2Ride - 90.44\n",
      "Order2Ride - 48.24\n"
     ]
    }
   ],
   "source": [
    "# Рассчитаем общие конверсии без учета городов\n",
    "\n",
    "Order2Assign = round(df_full['assign_time'].count()/df_full['order_time'].count(), 4)*100\n",
    "Assign2Arrive = round(df_full['arrive_time'].count()/df_full['assign_time'].count(),4)*100\n",
    "Arrive2Ride = round(df_full['ride_finish_time'].count()/df_full['arrive_time'].count(), 4)*100\n",
    "Order2Ride = round(df_full['ride_finish_time'].count()/df_full['order_time'].count(), 4)*100\n",
    "print('Order2Assign -', Order2Assign)\n",
    "print('Assign2Arrive -', Assign2Arrive)\n",
    "print('Arrive2Ride -', Arrive2Ride)\n",
    "print('Order2Ride -', Order2Ride)"
   ]
  },
  {
   "cell_type": "code",
   "execution_count": 40,
   "id": "e7efad02-b8b9-4e1c-98a4-fab5e356182d",
   "metadata": {},
   "outputs": [
    {
     "data": {
      "text/html": [
       "<div>\n",
       "<style scoped>\n",
       "    .dataframe tbody tr th:only-of-type {\n",
       "        vertical-align: middle;\n",
       "    }\n",
       "\n",
       "    .dataframe tbody tr th {\n",
       "        vertical-align: top;\n",
       "    }\n",
       "\n",
       "    .dataframe thead th {\n",
       "        text-align: right;\n",
       "    }\n",
       "</style>\n",
       "<table border=\"1\" class=\"dataframe\">\n",
       "  <thead>\n",
       "    <tr style=\"text-align: right;\">\n",
       "      <th></th>\n",
       "      <th>Conversion_Type</th>\n",
       "      <th>All_Cities_Conversion</th>\n",
       "    </tr>\n",
       "  </thead>\n",
       "  <tbody>\n",
       "    <tr>\n",
       "      <th>0</th>\n",
       "      <td>Order2Assign</td>\n",
       "      <td>67.30</td>\n",
       "    </tr>\n",
       "    <tr>\n",
       "      <th>1</th>\n",
       "      <td>Assign2Arrive</td>\n",
       "      <td>79.27</td>\n",
       "    </tr>\n",
       "    <tr>\n",
       "      <th>2</th>\n",
       "      <td>Arrive2Ride</td>\n",
       "      <td>90.44</td>\n",
       "    </tr>\n",
       "    <tr>\n",
       "      <th>3</th>\n",
       "      <td>Order2Ride</td>\n",
       "      <td>48.24</td>\n",
       "    </tr>\n",
       "  </tbody>\n",
       "</table>\n",
       "</div>"
      ],
      "text/plain": [
       "  Conversion_Type  All_Cities_Conversion\n",
       "0    Order2Assign                  67.30\n",
       "1   Assign2Arrive                  79.27\n",
       "2     Arrive2Ride                  90.44\n",
       "3      Order2Ride                  48.24"
      ]
     },
     "execution_count": 40,
     "metadata": {},
     "output_type": "execute_result"
    }
   ],
   "source": [
    "# Запишем полученные данные в Датафрейм для наглядности\n",
    "\n",
    "conv_all_cities = pd.DataFrame({'Conversion_Type':['Order2Assign','Assign2Arrive','Arrive2Ride','Order2Ride'],\n",
    "                                'All_Cities_Conversion':[67.3,79.27,90.44,48.24]}\n",
    "                                )\n",
    "                                \n",
    "conv_all_cities"
   ]
  },
  {
   "cell_type": "markdown",
   "id": "50fac59b-a137-4e8a-87af-7041f7991a21",
   "metadata": {},
   "source": [
    "Задание 1:\n",
    "Изучите утренние и вечерние часы пик.\n",
    "Постройте график с количеством заказов по суточным часам (на оси Х — часы от 0 до 23)\n",
    "На сколько за один час в среднем делается больше заказов в часы пик, чем в обычное время? (По всем городам вместе.)"
   ]
  },
  {
   "cell_type": "code",
   "execution_count": 41,
   "id": "5fa33d76-a434-451f-9ab6-f675bf68bd1b",
   "metadata": {},
   "outputs": [
    {
     "data": {
      "text/html": [
       "<div>\n",
       "<style scoped>\n",
       "    .dataframe tbody tr th:only-of-type {\n",
       "        vertical-align: middle;\n",
       "    }\n",
       "\n",
       "    .dataframe tbody tr th {\n",
       "        vertical-align: top;\n",
       "    }\n",
       "\n",
       "    .dataframe thead th {\n",
       "        text-align: right;\n",
       "    }\n",
       "</style>\n",
       "<table border=\"1\" class=\"dataframe\">\n",
       "  <thead>\n",
       "    <tr style=\"text-align: right;\">\n",
       "      <th></th>\n",
       "      <th>order_time</th>\n",
       "      <th>order_id</th>\n",
       "    </tr>\n",
       "  </thead>\n",
       "  <tbody>\n",
       "    <tr>\n",
       "      <th>0</th>\n",
       "      <td>0</td>\n",
       "      <td>212</td>\n",
       "    </tr>\n",
       "    <tr>\n",
       "      <th>1</th>\n",
       "      <td>1</td>\n",
       "      <td>232</td>\n",
       "    </tr>\n",
       "    <tr>\n",
       "      <th>2</th>\n",
       "      <td>2</td>\n",
       "      <td>217</td>\n",
       "    </tr>\n",
       "    <tr>\n",
       "      <th>3</th>\n",
       "      <td>3</td>\n",
       "      <td>192</td>\n",
       "    </tr>\n",
       "    <tr>\n",
       "      <th>4</th>\n",
       "      <td>4</td>\n",
       "      <td>205</td>\n",
       "    </tr>\n",
       "    <tr>\n",
       "      <th>5</th>\n",
       "      <td>5</td>\n",
       "      <td>220</td>\n",
       "    </tr>\n",
       "    <tr>\n",
       "      <th>6</th>\n",
       "      <td>6</td>\n",
       "      <td>347</td>\n",
       "    </tr>\n",
       "    <tr>\n",
       "      <th>7</th>\n",
       "      <td>7</td>\n",
       "      <td>811</td>\n",
       "    </tr>\n",
       "    <tr>\n",
       "      <th>8</th>\n",
       "      <td>8</td>\n",
       "      <td>764</td>\n",
       "    </tr>\n",
       "    <tr>\n",
       "      <th>9</th>\n",
       "      <td>9</td>\n",
       "      <td>801</td>\n",
       "    </tr>\n",
       "    <tr>\n",
       "      <th>10</th>\n",
       "      <td>10</td>\n",
       "      <td>704</td>\n",
       "    </tr>\n",
       "    <tr>\n",
       "      <th>11</th>\n",
       "      <td>11</td>\n",
       "      <td>220</td>\n",
       "    </tr>\n",
       "    <tr>\n",
       "      <th>12</th>\n",
       "      <td>12</td>\n",
       "      <td>205</td>\n",
       "    </tr>\n",
       "    <tr>\n",
       "      <th>13</th>\n",
       "      <td>13</td>\n",
       "      <td>189</td>\n",
       "    </tr>\n",
       "    <tr>\n",
       "      <th>14</th>\n",
       "      <td>14</td>\n",
       "      <td>178</td>\n",
       "    </tr>\n",
       "    <tr>\n",
       "      <th>15</th>\n",
       "      <td>15</td>\n",
       "      <td>225</td>\n",
       "    </tr>\n",
       "    <tr>\n",
       "      <th>16</th>\n",
       "      <td>16</td>\n",
       "      <td>208</td>\n",
       "    </tr>\n",
       "    <tr>\n",
       "      <th>17</th>\n",
       "      <td>17</td>\n",
       "      <td>590</td>\n",
       "    </tr>\n",
       "    <tr>\n",
       "      <th>18</th>\n",
       "      <td>18</td>\n",
       "      <td>1149</td>\n",
       "    </tr>\n",
       "    <tr>\n",
       "      <th>19</th>\n",
       "      <td>19</td>\n",
       "      <td>955</td>\n",
       "    </tr>\n",
       "    <tr>\n",
       "      <th>20</th>\n",
       "      <td>20</td>\n",
       "      <td>779</td>\n",
       "    </tr>\n",
       "    <tr>\n",
       "      <th>21</th>\n",
       "      <td>21</td>\n",
       "      <td>209</td>\n",
       "    </tr>\n",
       "    <tr>\n",
       "      <th>22</th>\n",
       "      <td>22</td>\n",
       "      <td>205</td>\n",
       "    </tr>\n",
       "    <tr>\n",
       "      <th>23</th>\n",
       "      <td>23</td>\n",
       "      <td>203</td>\n",
       "    </tr>\n",
       "  </tbody>\n",
       "</table>\n",
       "</div>"
      ],
      "text/plain": [
       "    order_time  order_id\n",
       "0            0       212\n",
       "1            1       232\n",
       "2            2       217\n",
       "3            3       192\n",
       "4            4       205\n",
       "5            5       220\n",
       "6            6       347\n",
       "7            7       811\n",
       "8            8       764\n",
       "9            9       801\n",
       "10          10       704\n",
       "11          11       220\n",
       "12          12       205\n",
       "13          13       189\n",
       "14          14       178\n",
       "15          15       225\n",
       "16          16       208\n",
       "17          17       590\n",
       "18          18      1149\n",
       "19          19       955\n",
       "20          20       779\n",
       "21          21       209\n",
       "22          22       205\n",
       "23          23       203"
      ]
     },
     "execution_count": 41,
     "metadata": {},
     "output_type": "execute_result"
    }
   ],
   "source": [
    "# Расчитаем почасовое количество заказов по всем городам\n",
    "\n",
    "orders_per_hour = df_full.groupby(df_full['order_time'].dt.hour).order_id.count().reset_index()\t\n",
    "orders_per_hour"
   ]
  },
  {
   "cell_type": "code",
   "execution_count": 42,
   "id": "270089d2-86a6-4988-a003-89eee62297bc",
   "metadata": {},
   "outputs": [
    {
     "data": {
      "text/plain": [
       "Text(0.5, 1.0, 'Распределение заказов по часам')"
      ]
     },
     "execution_count": 42,
     "metadata": {},
     "output_type": "execute_result"
    },
    {
     "data": {
      "image/png": "[encoded data removed]",
      "text/plain": [
       "<Figure size 576x288 with 1 Axes>"
      ]
     },
     "metadata": {
      "needs_background": "light"
     },
     "output_type": "display_data"
    }
   ],
   "source": [
    "# Визуализируем полученные результаты: на графике четко видны часы пик\n",
    "\n",
    "plt.figure(figsize=(8,4))\n",
    "sns.barplot(x=orders_per_hour['order_time'],\n",
    "           y=orders_per_hour['order_id'])\n",
    "plt.xlabel('Час суток')\n",
    "plt.ylabel('Количество заказов')\n",
    "plt.title('Распределение заказов по часам')"
   ]
  },
  {
   "cell_type": "markdown",
   "id": "f132176f-a59f-4615-81d1-9bb4ee71cab7",
   "metadata": {},
   "source": [
    "Рассмотрите города по отдельности: для каждого города выведите разницу в количестве заказов (среднечасовом) между часами пик и обычными часами."
   ]
  },
  {
   "cell_type": "code",
   "execution_count": 43,
   "id": "6683837d-510d-4fdd-ba02-74d7a2a75bf8",
   "metadata": {},
   "outputs": [
    {
     "data": {
      "text/html": [
       "<div>\n",
       "<style scoped>\n",
       "    .dataframe tbody tr th:only-of-type {\n",
       "        vertical-align: middle;\n",
       "    }\n",
       "\n",
       "    .dataframe tbody tr th {\n",
       "        vertical-align: top;\n",
       "    }\n",
       "\n",
       "    .dataframe thead th {\n",
       "        text-align: right;\n",
       "    }\n",
       "</style>\n",
       "<table border=\"1\" class=\"dataframe\">\n",
       "  <thead>\n",
       "    <tr style=\"text-align: right;\">\n",
       "      <th></th>\n",
       "      <th>city</th>\n",
       "      <th>diff_hi_low_by_city</th>\n",
       "    </tr>\n",
       "  </thead>\n",
       "  <tbody>\n",
       "    <tr>\n",
       "      <th>0</th>\n",
       "      <td>Москва</td>\n",
       "      <td>183</td>\n",
       "    </tr>\n",
       "    <tr>\n",
       "      <th>1</th>\n",
       "      <td>Санкт-Петербург</td>\n",
       "      <td>120</td>\n",
       "    </tr>\n",
       "    <tr>\n",
       "      <th>2</th>\n",
       "      <td>Казань</td>\n",
       "      <td>57</td>\n",
       "    </tr>\n",
       "    <tr>\n",
       "      <th>3</th>\n",
       "      <td>Новосибирск</td>\n",
       "      <td>54</td>\n",
       "    </tr>\n",
       "    <tr>\n",
       "      <th>4</th>\n",
       "      <td>Краснодар</td>\n",
       "      <td>47</td>\n",
       "    </tr>\n",
       "    <tr>\n",
       "      <th>5</th>\n",
       "      <td>Красноярск</td>\n",
       "      <td>31</td>\n",
       "    </tr>\n",
       "    <tr>\n",
       "      <th>6</th>\n",
       "      <td>Тюмень</td>\n",
       "      <td>36</td>\n",
       "    </tr>\n",
       "    <tr>\n",
       "      <th>7</th>\n",
       "      <td>Хабаровск</td>\n",
       "      <td>38</td>\n",
       "    </tr>\n",
       "    <tr>\n",
       "      <th>8</th>\n",
       "      <td>Екатеринбург</td>\n",
       "      <td>35</td>\n",
       "    </tr>\n",
       "  </tbody>\n",
       "</table>\n",
       "</div>"
      ],
      "text/plain": [
       "              city  diff_hi_low_by_city\n",
       "0           Москва                  183\n",
       "1  Санкт-Петербург                  120\n",
       "2           Казань                   57\n",
       "3      Новосибирск                   54\n",
       "4        Краснодар                   47\n",
       "5       Красноярск                   31\n",
       "6           Тюмень                   36\n",
       "7        Хабаровск                   38\n",
       "8     Екатеринбург                   35"
      ]
     },
     "execution_count": 43,
     "metadata": {},
     "output_type": "execute_result"
    }
   ],
   "source": [
    "# Найдем разницу среднего количества заказов по городам для часов-пик и обычного времени. \n",
    "\n",
    "x = (7,8,9,10,17,18,19,20)\n",
    "y = (0,1,2,3,4,5,6,11,12,13,14,15,16,21,22,23)\n",
    "\n",
    "result = []\n",
    "\n",
    "for i in df_full.name_city.unique():\n",
    "    \n",
    "    df_loc = df_full[df_full['name_city']==i]\n",
    "    r1 = df_loc.groupby(df_loc['order_time'].dt.hour)['order_id'].count().reset_index()\n",
    "    r2 = int(r1.loc[r1['order_time'].isin((x))]['order_id'].mean())\n",
    "    r3 = int(r1.loc[r1['order_time'].isin((y))]['order_id'].mean())\n",
    "    r4 = r2 - r3\n",
    "    result.append({'city':i,\n",
    "                   'diff_hi_low_by_city':r4})\n",
    "                   \n",
    "city_hi_lo_diff = pd.DataFrame(result)\n",
    "city_hi_lo_diff"
   ]
  },
  {
   "cell_type": "code",
   "execution_count": 44,
   "id": "225378e1-6a5c-4fe6-be68-667946cc10eb",
   "metadata": {},
   "outputs": [
    {
     "data": {
      "text/plain": [
       "Text(0.5, 1.0, 'Разница заказов высоких и низких часов по городам')"
      ]
     },
     "execution_count": 44,
     "metadata": {},
     "output_type": "execute_result"
    },
    {
     "data": {
      "image/png": "[encoded data removed]",
      "text/plain": [
       "<Figure size 792x432 with 1 Axes>"
      ]
     },
     "metadata": {
      "needs_background": "light"
     },
     "output_type": "display_data"
    }
   ],
   "source": [
    "plt.figure(figsize=(11,6))\n",
    "sns.barplot(x=city_hi_lo_diff['city'],\n",
    "           y=city_hi_lo_diff['diff_hi_low_by_city'])\n",
    "plt.xlabel('Город')\n",
    "plt.ylabel('Количество заказов')\n",
    "plt.title('Разница заказов высоких и низких часов по городам')"
   ]
  },
  {
   "cell_type": "markdown",
   "id": "712510f3-4b86-43b1-9320-c4270de3cb3f",
   "metadata": {},
   "source": [
    "В каком городе наблюдается наибольшее отклонение конверсии Order2Ride в часы пик по сравнению с обычными часами?"
   ]
  },
  {
   "cell_type": "code",
   "execution_count": 45,
   "id": "886c59ec-72b7-4300-bdc6-71311d1cf2f2",
   "metadata": {},
   "outputs": [
    {
     "data": {
      "text/html": [
       "<div>\n",
       "<style scoped>\n",
       "    .dataframe tbody tr th:only-of-type {\n",
       "        vertical-align: middle;\n",
       "    }\n",
       "\n",
       "    .dataframe tbody tr th {\n",
       "        vertical-align: top;\n",
       "    }\n",
       "\n",
       "    .dataframe thead th {\n",
       "        text-align: right;\n",
       "    }\n",
       "</style>\n",
       "<table border=\"1\" class=\"dataframe\">\n",
       "  <thead>\n",
       "    <tr style=\"text-align: right;\">\n",
       "      <th></th>\n",
       "      <th>city</th>\n",
       "      <th>conversion_hi</th>\n",
       "      <th>conversion_lo</th>\n",
       "      <th>conversion_delta</th>\n",
       "    </tr>\n",
       "  </thead>\n",
       "  <tbody>\n",
       "    <tr>\n",
       "      <th>0</th>\n",
       "      <td>Москва</td>\n",
       "      <td>0.438247</td>\n",
       "      <td>0.558824</td>\n",
       "      <td>0.120577</td>\n",
       "    </tr>\n",
       "    <tr>\n",
       "      <th>1</th>\n",
       "      <td>Санкт-Петербург</td>\n",
       "      <td>0.451807</td>\n",
       "      <td>0.565217</td>\n",
       "      <td>0.113410</td>\n",
       "    </tr>\n",
       "    <tr>\n",
       "      <th>2</th>\n",
       "      <td>Казань</td>\n",
       "      <td>0.546667</td>\n",
       "      <td>0.611111</td>\n",
       "      <td>0.064444</td>\n",
       "    </tr>\n",
       "    <tr>\n",
       "      <th>3</th>\n",
       "      <td>Новосибирск</td>\n",
       "      <td>0.563380</td>\n",
       "      <td>0.647059</td>\n",
       "      <td>0.083679</td>\n",
       "    </tr>\n",
       "    <tr>\n",
       "      <th>4</th>\n",
       "      <td>Краснодар</td>\n",
       "      <td>0.557377</td>\n",
       "      <td>0.642857</td>\n",
       "      <td>0.085480</td>\n",
       "    </tr>\n",
       "    <tr>\n",
       "      <th>5</th>\n",
       "      <td>Красноярск</td>\n",
       "      <td>0.390244</td>\n",
       "      <td>0.400000</td>\n",
       "      <td>0.009756</td>\n",
       "    </tr>\n",
       "    <tr>\n",
       "      <th>6</th>\n",
       "      <td>Тюмень</td>\n",
       "      <td>0.260000</td>\n",
       "      <td>0.214286</td>\n",
       "      <td>-0.045714</td>\n",
       "    </tr>\n",
       "    <tr>\n",
       "      <th>7</th>\n",
       "      <td>Хабаровск</td>\n",
       "      <td>0.274510</td>\n",
       "      <td>0.230769</td>\n",
       "      <td>-0.043741</td>\n",
       "    </tr>\n",
       "    <tr>\n",
       "      <th>8</th>\n",
       "      <td>Екатеринбург</td>\n",
       "      <td>0.595745</td>\n",
       "      <td>0.500000</td>\n",
       "      <td>-0.095745</td>\n",
       "    </tr>\n",
       "  </tbody>\n",
       "</table>\n",
       "</div>"
      ],
      "text/plain": [
       "              city  conversion_hi  conversion_lo  conversion_delta\n",
       "0           Москва       0.438247       0.558824          0.120577\n",
       "1  Санкт-Петербург       0.451807       0.565217          0.113410\n",
       "2           Казань       0.546667       0.611111          0.064444\n",
       "3      Новосибирск       0.563380       0.647059          0.083679\n",
       "4        Краснодар       0.557377       0.642857          0.085480\n",
       "5       Красноярск       0.390244       0.400000          0.009756\n",
       "6           Тюмень       0.260000       0.214286         -0.045714\n",
       "7        Хабаровск       0.274510       0.230769         -0.043741\n",
       "8     Екатеринбург       0.595745       0.500000         -0.095745"
      ]
     },
     "execution_count": 45,
     "metadata": {},
     "output_type": "execute_result"
    }
   ],
   "source": [
    "# Проанализируем отклонение конверсии Order2Ride в часы пик по сравнению с обычными часами по гродам: наибольшее отклонение в Москве. \n",
    "\n",
    "x = (7,8,9,10,17,18,19,20)\n",
    "y = (0,1,2,3,4,5,6,11,12,13,14,15,16,21,22,23)\n",
    "\n",
    "result = []\n",
    "\n",
    "for i in df_full.name_city.unique():\n",
    "    \n",
    "    df_loc = df_full[df_full['name_city']==i]\n",
    "    r1 = df_loc.groupby(df_loc['order_time'].dt.hour)['order_id'].count().reset_index()\n",
    "    r2 = int(r1.loc[r1['order_time'].isin((x))]['order_id'].mean())\n",
    "    r3 = int(r1.loc[r1['order_time'].isin((y))]['order_id'].mean())\n",
    "    \n",
    "    r6 = df_loc.groupby(df_loc['ride_finish_time'].dt.hour)['order_id'].count().reset_index()\n",
    "    r7 = int(r6.loc[r6['ride_finish_time'].isin((x))]['order_id'].mean())\n",
    "    r8 = int(r6.loc[r6['ride_finish_time'].isin((y))]['order_id'].mean())\n",
    "    \n",
    "    r9 = r7/r2 \n",
    "    r10 = r8/r3\n",
    "    r11 = r10 - r9\n",
    "    \n",
    "    result.append({'city':i,\n",
    "                   'conversion_hi':r9,\n",
    "                   'conversion_lo':r10,\n",
    "                   'conversion_delta':r11\n",
    "                })\n",
    "city_hi_lo_conv = pd.DataFrame(result)\n",
    "city_hi_lo_conv"
   ]
  },
  {
   "cell_type": "code",
   "execution_count": 46,
   "id": "3d86012b-8ae3-4e51-b2db-3038e33b9674",
   "metadata": {},
   "outputs": [
    {
     "data": {
      "text/plain": [
       "<AxesSubplot:title={'center':'Отклонение разницы конверсии o2r для высоких и низких часов по говордам'}, xlabel='city', ylabel='conversion_delta'>"
      ]
     },
     "execution_count": 46,
     "metadata": {},
     "output_type": "execute_result"
    },
    {
     "data": {
      "image/png": "[encoded data removed]",
      "text/plain": [
       "<Figure size 792x432 with 1 Axes>"
      ]
     },
     "metadata": {
      "needs_background": "light"
     },
     "output_type": "display_data"
    }
   ],
   "source": [
    "plt.figure(figsize=(11, 6))\n",
    "plt.title('Отклонение разницы конверсии o2r для высоких и низких часов по говордам')\n",
    "sns.barplot(x=city_hi_lo_conv.city,\n",
    "           y=city_hi_lo_conv.conversion_delta)"
   ]
  },
  {
   "cell_type": "markdown",
   "id": "8f045008-eaa3-4bb6-9450-17e8814cf8cf",
   "metadata": {},
   "source": [
    "Задание 2:\n",
    "Изучите заказы в Хабаровске и Тюмени. Эти города интересуют менеджеров, так как в них наша компания начала работать относительно недавно.\n",
    "\n",
    " На сколько процентных пунктов Order2Ride в среднем в них ниже, чем в других городах?\n",
    " За счет какого звена воронки достигается эта разница? Сделайте выводы по Хабаровску и по Тюмени по отдельности.\n",
    " Какие рекомендации вы можете дать локальным менеджерам?"
   ]
  },
  {
   "cell_type": "code",
   "execution_count": 47,
   "id": "4e5c773a-7c7d-411d-9f12-cf0ddf33a15c",
   "metadata": {},
   "outputs": [
    {
     "data": {
      "text/html": [
       "<div>\n",
       "<style scoped>\n",
       "    .dataframe tbody tr th:only-of-type {\n",
       "        vertical-align: middle;\n",
       "    }\n",
       "\n",
       "    .dataframe tbody tr th {\n",
       "        vertical-align: top;\n",
       "    }\n",
       "\n",
       "    .dataframe thead th {\n",
       "        text-align: right;\n",
       "    }\n",
       "</style>\n",
       "<table border=\"1\" class=\"dataframe\">\n",
       "  <thead>\n",
       "    <tr style=\"text-align: right;\">\n",
       "      <th></th>\n",
       "      <th>city</th>\n",
       "      <th>Order2Assign</th>\n",
       "      <th>Assign2Arrive</th>\n",
       "      <th>Arrive2Ride</th>\n",
       "      <th>Order2Ride</th>\n",
       "    </tr>\n",
       "  </thead>\n",
       "  <tbody>\n",
       "    <tr>\n",
       "      <th>0</th>\n",
       "      <td>Москва</td>\n",
       "      <td>0.684989</td>\n",
       "      <td>0.748006</td>\n",
       "      <td>0.944166</td>\n",
       "      <td>0.483767</td>\n",
       "    </tr>\n",
       "    <tr>\n",
       "      <th>1</th>\n",
       "      <td>Санкт-Петербург</td>\n",
       "      <td>0.656250</td>\n",
       "      <td>0.805128</td>\n",
       "      <td>0.939945</td>\n",
       "      <td>0.496635</td>\n",
       "    </tr>\n",
       "    <tr>\n",
       "      <th>2</th>\n",
       "      <td>Казань</td>\n",
       "      <td>0.757442</td>\n",
       "      <td>0.768559</td>\n",
       "      <td>0.958333</td>\n",
       "      <td>0.557883</td>\n",
       "    </tr>\n",
       "    <tr>\n",
       "      <th>3</th>\n",
       "      <td>Новосибирск</td>\n",
       "      <td>0.748524</td>\n",
       "      <td>0.828076</td>\n",
       "      <td>0.954286</td>\n",
       "      <td>0.591499</td>\n",
       "    </tr>\n",
       "    <tr>\n",
       "      <th>4</th>\n",
       "      <td>Краснодар</td>\n",
       "      <td>0.746594</td>\n",
       "      <td>0.833942</td>\n",
       "      <td>0.936543</td>\n",
       "      <td>0.583106</td>\n",
       "    </tr>\n",
       "    <tr>\n",
       "      <th>5</th>\n",
       "      <td>Красноярск</td>\n",
       "      <td>0.747515</td>\n",
       "      <td>0.851064</td>\n",
       "      <td>0.609375</td>\n",
       "      <td>0.387674</td>\n",
       "    </tr>\n",
       "    <tr>\n",
       "      <th>6</th>\n",
       "      <td>Тюмень</td>\n",
       "      <td>0.556962</td>\n",
       "      <td>0.838068</td>\n",
       "      <td>0.572881</td>\n",
       "      <td>0.267405</td>\n",
       "    </tr>\n",
       "    <tr>\n",
       "      <th>7</th>\n",
       "      <td>Хабаровск</td>\n",
       "      <td>0.341346</td>\n",
       "      <td>0.812207</td>\n",
       "      <td>0.947977</td>\n",
       "      <td>0.262821</td>\n",
       "    </tr>\n",
       "    <tr>\n",
       "      <th>8</th>\n",
       "      <td>Екатеринбург</td>\n",
       "      <td>0.750859</td>\n",
       "      <td>0.810069</td>\n",
       "      <td>0.940678</td>\n",
       "      <td>0.572165</td>\n",
       "    </tr>\n",
       "  </tbody>\n",
       "</table>\n",
       "</div>"
      ],
      "text/plain": [
       "              city  Order2Assign  Assign2Arrive  Arrive2Ride  Order2Ride\n",
       "0           Москва      0.684989       0.748006     0.944166    0.483767\n",
       "1  Санкт-Петербург      0.656250       0.805128     0.939945    0.496635\n",
       "2           Казань      0.757442       0.768559     0.958333    0.557883\n",
       "3      Новосибирск      0.748524       0.828076     0.954286    0.591499\n",
       "4        Краснодар      0.746594       0.833942     0.936543    0.583106\n",
       "5       Красноярск      0.747515       0.851064     0.609375    0.387674\n",
       "6           Тюмень      0.556962       0.838068     0.572881    0.267405\n",
       "7        Хабаровск      0.341346       0.812207     0.947977    0.262821\n",
       "8     Екатеринбург      0.750859       0.810069     0.940678    0.572165"
      ]
     },
     "execution_count": 47,
     "metadata": {},
     "output_type": "execute_result"
    }
   ],
   "source": [
    "#На сколько процентных пунктов Order2Ride в среднем ниже в Хабаровске и Тюмени, чем в других городах\n",
    "\n",
    "result= []\n",
    "\n",
    "for i in df_full.name_city.unique():\n",
    "    \n",
    "    df_city_uniq = df_full[df_full['name_city']== i] \n",
    "    \n",
    "    Order2Assign = df_city_uniq.assign_time.count()/df_city_uniq.order_time.count()                \n",
    "    Assign2Arrive = df_city_uniq.arrive_time.count()/df_city_uniq.assign_time.count() \n",
    "    Arrive2Ride = df_city_uniq.ride_finish_time.count()/df_city_uniq.arrive_time.count()                                   \n",
    "    Order2Ride = df_city_uniq.ride_finish_time.count()/df_city_uniq.order_time.count()     \n",
    "                                                                                   \n",
    "    result.append({'city':i,\n",
    "                   'Order2Assign':Order2Assign,\n",
    "                   'Assign2Arrive':Assign2Arrive,\n",
    "                   'Arrive2Ride':Arrive2Ride,\n",
    "                   'Order2Ride':Order2Ride\n",
    "                   })\n",
    "        \n",
    "df_res = pd.DataFrame(result)    \n",
    "df_res "
   ]
  },
  {
   "cell_type": "code",
   "execution_count": 48,
   "id": "e77d0be4-da80-448d-bbb1-2eba83cc3ff0",
   "metadata": {},
   "outputs": [
    {
     "data": {
      "image/png": "[encoded data removed]",
      "text/plain": [
       "<Figure size 1080x360 with 1 Axes>"
      ]
     },
     "metadata": {
      "needs_background": "light"
     },
     "output_type": "display_data"
    }
   ],
   "source": [
    "# Как видно на графике: низкая конверсия o2r в Тюмени и Хабаровске объясняется низкой промежуточной конверсией Order2Assign в Хабаровске и невысокими \n",
    "# Order2Assign и Assign2Arrive в Тюмени. Возможно, в Хабаровске нужно увеличить колчество машин, чтобы заказ принимали быстрее, а в Тюмени в добавок \n",
    "# к этому замотивировать водителей более ответственно выполнять заказы (приезжать на них, а не только принимать)\n",
    "\n",
    "plt.figure(figsize=(15, 5))  \n",
    "plt.title('Конверсии Тюмени и Хабаровска среди других городов')  \n",
    "plt.xlabel('city') \n",
    "plt.ylabel('conv') \n",
    "plt.grid() \n",
    "\n",
    "plt.plot(df_res['city'], df_res['Order2Assign'], color='r', label = 'Order2Assign')\n",
    "plt.plot(df_res['city'], df_res['Assign2Arrive'], label = 'Assign2Arrive')\n",
    "plt.plot(df_res['city'], df_res['Arrive2Ride'], label = 'Arrive2Ride')\n",
    "plt.plot(df_res['city'], df_res['Order2Ride'], label = 'Order2Ride')\n",
    "\n",
    "plt.axvline(x=6, color='grey', linestyle='--')\n",
    "plt.axvline(x=7, color='grey', linestyle='--')\n",
    "\n",
    "plt.legend()\n",
    "plt.show() "
   ]
  },
  {
   "cell_type": "markdown",
   "id": "336217fe-0322-4e51-a406-02d834435669",
   "metadata": {},
   "source": [
    "Задание 3:\n",
    "К вам обратились коллеги из отдела антифрода (отдела, предотвращающего мошенничество). У них есть подозрение, что некоторые водители мимикрируют координаты, то есть на самом деле не приезжают в точку А своего заказа, но в приложение посылают сигнал, что они в эту точку А приехали. Таким образом они вынуждают клиента отменить заказ после «прибытия ими в точку А».\n",
    "\n",
    "Постарайтесь локализовать данную проблему и выделить города, в которых такое происходит чаще всего."
   ]
  },
  {
   "cell_type": "code",
   "execution_count": 57,
   "id": "abe4c3eb-7942-4f93-8043-013a4d64d5d7",
   "metadata": {},
   "outputs": [
    {
     "data": {
      "text/plain": [
       "<AxesSubplot:xlabel='city', ylabel='Arrive2Ride'>"
      ]
     },
     "execution_count": 57,
     "metadata": {},
     "output_type": "execute_result"
    },
    {
     "data": {
      "image/png": "[encoded data removed]",
      "text/plain": [
       "<Figure size 720x360 with 1 Axes>"
      ]
     },
     "metadata": {
      "needs_background": "light"
     },
     "output_type": "display_data"
    }
   ],
   "source": [
    "#Чаще всего указанная проблема происходит в Красноярске и Тюмени. Менеджерам на это следует обратить внимание. \n",
    "\n",
    "plt.figure(figsize=(10,5))\n",
    "sns.barplot(x=df_res['city'],\n",
    "             y=df_res['Arrive2Ride'])"
   ]
  },
  {
   "cell_type": "markdown",
   "id": "24b4da91-6abd-4d89-a73c-5d009bc57d0d",
   "metadata": {},
   "source": [
    "Задание 4:\n",
    "Тариф «Доставка» был запущен недавно по всей России. Изучите конверсии в рамках данного тарифа по городам, локализуйте просадку конверсии Order2Ride в рамках данного тарифа и дайте рекомендации отделу операционистов, которые занимаются этим тарифом."
   ]
  },
  {
   "cell_type": "code",
   "execution_count": 65,
   "id": "ed6b737d-30b4-4bfb-ac95-ac541935bf9d",
   "metadata": {},
   "outputs": [
    {
     "name": "stderr",
     "output_type": "stream",
     "text": [
      "C:\\Users\\Petr\\AppData\\Local\\Temp\\ipykernel_5848\\2396058145.py:8: RuntimeWarning: invalid value encountered in longlong_scalars\n",
      "  Assign2Arrive = df_dostavka.arrive_time.count()/df_dostavka.assign_time.count()\n",
      "C:\\Users\\Petr\\AppData\\Local\\Temp\\ipykernel_5848\\2396058145.py:9: RuntimeWarning: invalid value encountered in longlong_scalars\n",
      "  Arrive2Ride = df_dostavka.ride_finish_time.count()/df_dostavka.arrive_time.count()\n"
     ]
    },
    {
     "data": {
      "text/html": [
       "<div>\n",
       "<style scoped>\n",
       "    .dataframe tbody tr th:only-of-type {\n",
       "        vertical-align: middle;\n",
       "    }\n",
       "\n",
       "    .dataframe tbody tr th {\n",
       "        vertical-align: top;\n",
       "    }\n",
       "\n",
       "    .dataframe thead th {\n",
       "        text-align: right;\n",
       "    }\n",
       "</style>\n",
       "<table border=\"1\" class=\"dataframe\">\n",
       "  <thead>\n",
       "    <tr style=\"text-align: right;\">\n",
       "      <th></th>\n",
       "      <th>city</th>\n",
       "      <th>Order2Assign</th>\n",
       "      <th>Assign2Arrive</th>\n",
       "      <th>Arrive2Ride</th>\n",
       "      <th>Order2Ride</th>\n",
       "    </tr>\n",
       "  </thead>\n",
       "  <tbody>\n",
       "    <tr>\n",
       "      <th>0</th>\n",
       "      <td>Москва</td>\n",
       "      <td>0.704545</td>\n",
       "      <td>0.761290</td>\n",
       "      <td>0.949153</td>\n",
       "      <td>0.509091</td>\n",
       "    </tr>\n",
       "    <tr>\n",
       "      <th>1</th>\n",
       "      <td>Санкт-Петербург</td>\n",
       "      <td>0.729927</td>\n",
       "      <td>0.740000</td>\n",
       "      <td>0.945946</td>\n",
       "      <td>0.510949</td>\n",
       "    </tr>\n",
       "    <tr>\n",
       "      <th>2</th>\n",
       "      <td>Казань</td>\n",
       "      <td>0.763636</td>\n",
       "      <td>0.809524</td>\n",
       "      <td>0.970588</td>\n",
       "      <td>0.600000</td>\n",
       "    </tr>\n",
       "    <tr>\n",
       "      <th>3</th>\n",
       "      <td>Новосибирск</td>\n",
       "      <td>0.661538</td>\n",
       "      <td>0.906977</td>\n",
       "      <td>0.974359</td>\n",
       "      <td>0.584615</td>\n",
       "    </tr>\n",
       "    <tr>\n",
       "      <th>4</th>\n",
       "      <td>Краснодар</td>\n",
       "      <td>0.000000</td>\n",
       "      <td>NaN</td>\n",
       "      <td>NaN</td>\n",
       "      <td>0.000000</td>\n",
       "    </tr>\n",
       "    <tr>\n",
       "      <th>5</th>\n",
       "      <td>Красноярск</td>\n",
       "      <td>0.815789</td>\n",
       "      <td>0.806452</td>\n",
       "      <td>0.720000</td>\n",
       "      <td>0.473684</td>\n",
       "    </tr>\n",
       "    <tr>\n",
       "      <th>6</th>\n",
       "      <td>Тюмень</td>\n",
       "      <td>0.250000</td>\n",
       "      <td>0.727273</td>\n",
       "      <td>0.875000</td>\n",
       "      <td>0.159091</td>\n",
       "    </tr>\n",
       "    <tr>\n",
       "      <th>7</th>\n",
       "      <td>Хабаровск</td>\n",
       "      <td>0.340426</td>\n",
       "      <td>0.750000</td>\n",
       "      <td>0.916667</td>\n",
       "      <td>0.234043</td>\n",
       "    </tr>\n",
       "    <tr>\n",
       "      <th>8</th>\n",
       "      <td>Екатеринбург</td>\n",
       "      <td>0.787234</td>\n",
       "      <td>0.837838</td>\n",
       "      <td>0.903226</td>\n",
       "      <td>0.595745</td>\n",
       "    </tr>\n",
       "  </tbody>\n",
       "</table>\n",
       "</div>"
      ],
      "text/plain": [
       "              city  Order2Assign  Assign2Arrive  Arrive2Ride  Order2Ride\n",
       "0           Москва      0.704545       0.761290     0.949153    0.509091\n",
       "1  Санкт-Петербург      0.729927       0.740000     0.945946    0.510949\n",
       "2           Казань      0.763636       0.809524     0.970588    0.600000\n",
       "3      Новосибирск      0.661538       0.906977     0.974359    0.584615\n",
       "4        Краснодар      0.000000            NaN          NaN    0.000000\n",
       "5       Красноярск      0.815789       0.806452     0.720000    0.473684\n",
       "6           Тюмень      0.250000       0.727273     0.875000    0.159091\n",
       "7        Хабаровск      0.340426       0.750000     0.916667    0.234043\n",
       "8     Екатеринбург      0.787234       0.837838     0.903226    0.595745"
      ]
     },
     "execution_count": 65,
     "metadata": {},
     "output_type": "execute_result"
    }
   ],
   "source": [
    "result = []\n",
    "\n",
    "for i in df_full.name_city.unique():\n",
    "    \n",
    "    df_dostavka = df_full[(df_full['name_city']==i)&(df_full['name_tariff']=='Доставка')]\n",
    "    \n",
    "    Order2Assign = df_dostavka.assign_time.count()/df_dostavka.order_time.count()                \n",
    "    Assign2Arrive = df_dostavka.arrive_time.count()/df_dostavka.assign_time.count() \n",
    "    Arrive2Ride = df_dostavka.ride_finish_time.count()/df_dostavka.arrive_time.count()                                   \n",
    "    Order2Ride = df_dostavka.ride_finish_time.count()/df_dostavka.order_time.count()     \n",
    "                                                                                   \n",
    "    result.append({'city':i,\n",
    "                   'Order2Assign':Order2Assign,\n",
    "                   'Assign2Arrive':Assign2Arrive,\n",
    "                   'Arrive2Ride':Arrive2Ride,\n",
    "                   'Order2Ride':Order2Ride\n",
    "                   })\n",
    "        \n",
    "df_dostavka_coversion = pd.DataFrame(result)    \n",
    "df_dostavka_coversion "
   ]
  },
  {
   "cell_type": "code",
   "execution_count": 91,
   "id": "340b6207-b68c-4a56-9009-2d738ca47f03",
   "metadata": {},
   "outputs": [],
   "source": [
    "df_dostavka_coversion_c = df_dostavka_coversion.dropna()"
   ]
  },
  {
   "cell_type": "code",
   "execution_count": 95,
   "id": "f0c1014e-6463-44d9-852e-035c15cf2876",
   "metadata": {},
   "outputs": [
    {
     "data": {
      "image/png": "[encoded data removed]",
      "text/plain": [
       "<Figure size 1080x360 with 1 Axes>"
      ]
     },
     "metadata": {
      "needs_background": "light"
     },
     "output_type": "display_data"
    }
   ],
   "source": [
    "# Как видно из графика, Order2Ride существенно проседает в Тюмени и Хабаровске, это происходит из-за низкого показателя Order2Assign, т.е. \n",
    "# имными словами - из-за низкого числа водителей, поддверживающих соответствующий тариф. Можно рекомендоват менеджерам принять меры к увеличению \n",
    "# таких водителей, чтобы заказы принимались быстрее. \n",
    "\n",
    "\n",
    "plt.figure(figsize=(15, 5))  \n",
    "plt.title('Конверсии тарифа \"Доставка\" для всех городов')  \n",
    "plt.xlabel('city') \n",
    "plt.ylabel('conv') \n",
    "plt.grid() \n",
    "\n",
    "plt.plot(df_dostavka_coversion_c['city'], df_dostavka_coversion_c['Order2Assign'], color='r', label = 'Order2Assign')\n",
    "plt.plot(df_dostavka_coversion_c['city'], df_dostavka_coversion_c['Assign2Arrive'], label = 'Assign2Arrive')\n",
    "plt.plot(df_dostavka_coversion_c['city'], df_dostavka_coversion_c['Arrive2Ride'], label = 'Arrive2Ride')\n",
    "plt.plot(df_dostavka_coversion_c['city'], df_dostavka_coversion_c['Order2Ride'], label = 'Order2Ride')\n",
    "\n",
    "plt.axvline(x=5, color='grey', linestyle='--')\n",
    "plt.axvline(x=6, color='grey', linestyle='--')\n",
    "\n",
    "plt.legend()\n",
    "plt.show() "
   ]
  },
  {
   "cell_type": "code",
   "execution_count": null,
   "id": "341c0630-7c82-47ea-af92-3af7df59cf2c",
   "metadata": {},
   "outputs": [],
   "source": []
  }
 ],
 "metadata": {
  "kernelspec": {
   "display_name": "Python 3 (ipykernel)",
   "language": "python",
   "name": "python3"
  },
  "language_info": {
   "codemirror_mode": {
    "name": "ipython",
    "version": 3
   },
   "file_extension": ".py",
   "mimetype": "text/x-python",
   "name": "python",
   "nbconvert_exporter": "python",
   "pygments_lexer": "ipython3",
   "version": "3.9.12"
  }
 },
 "nbformat": 4,
 "nbformat_minor": 5
}
